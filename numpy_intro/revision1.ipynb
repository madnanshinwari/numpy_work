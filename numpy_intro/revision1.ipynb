{
 "cells": [
  {
   "cell_type": "code",
   "execution_count": 15,
   "metadata": {},
   "outputs": [
    {
     "name": "stdout",
     "output_type": "stream",
     "text": [
      "[1 2 3 4 5]\n",
      "[[1 2 3 4]\n",
      " [5 6 7 8]]\n",
      "[[[ 9 10 11 12]\n",
      "  [13 14 15 16]\n",
      "  [17 18 19 20]]]\n"
     ]
    },
    {
     "data": {
      "text/plain": [
       "3"
      ]
     },
     "execution_count": 15,
     "metadata": {},
     "output_type": "execute_result"
    }
   ],
   "source": [
    "import numpy as np\n",
    "np.arange(3)\n",
    "# creation of the Array\n",
    "arr=np.array([1,2,3,4,5])\n",
    "print(arr)\n",
    "arr.shape\n",
    "\n",
    "# 2D Array creation\n",
    "arr2=np.array([[1,2,3,4],[5,6,7,8]])\n",
    "print(arr2)\n",
    "arr2.shape\n",
    "arr2.ndim\n",
    "\n",
    "#3D Array creation \n",
    "arr3=np.array([[[9,10,11,12],[13,14,15,16],[17,18,19,20]]])\n",
    "print(arr3)\n",
    "arr3.ndim"
   ]
  },
  {
   "cell_type": "code",
   "execution_count": 27,
   "metadata": {},
   "outputs": [
    {
     "name": "stdout",
     "output_type": "stream",
     "text": [
      "1\n",
      "5\n",
      "access the 2D elements  [2 7]\n",
      "3D elements is :  6\n"
     ]
    }
   ],
   "source": [
    "# how to access the element by index\n",
    "import numpy as np\n",
    "idx=np.array([1,2,3,4,5])\n",
    "print(idx[0])\n",
    "print(idx[1]+idx[2]) # addition through indics\n",
    "\n",
    "# 2D elements access through indices\n",
    "two_D=np.array([[1,2,3,4],[5,6,7,8]])\n",
    "print(\"access the 2D elements \",two_D[[0,1],[1,2]])\n",
    "\n",
    "#3D elements access through indices \n",
    "three_D=np.array([[[1, 2, 3], [4, 5, 6]], [[7, 8, 9], [10, 11, 12]]])\n",
    "print(\"3D elements is : \",three_D[0,1,2])\n"
   ]
  },
  {
   "cell_type": "code",
   "execution_count": 36,
   "metadata": {},
   "outputs": [
    {
     "name": "stdout",
     "output_type": "stream",
     "text": [
      "[2 3]\n",
      "[3 4 5]\n",
      "[1 2]\n"
     ]
    }
   ],
   "source": [
    "# Here some methods to try\n",
    "import numpy as np\n",
    "slic=np.array([1,2,3,4,5])\n",
    "print(slic[1:3])\n",
    "print(slic[2:]) # after 2 all elements are show \n",
    "print(slic[:2]) # before 2 all elements are show "
   ]
  }
 ],
 "metadata": {
  "kernelspec": {
   "display_name": "Python 3",
   "language": "python",
   "name": "python3"
  },
  "language_info": {
   "codemirror_mode": {
    "name": "ipython",
    "version": 3
   },
   "file_extension": ".py",
   "mimetype": "text/x-python",
   "name": "python",
   "nbconvert_exporter": "python",
   "pygments_lexer": "ipython3",
   "version": "3.11.4"
  }
 },
 "nbformat": 4,
 "nbformat_minor": 2
}
