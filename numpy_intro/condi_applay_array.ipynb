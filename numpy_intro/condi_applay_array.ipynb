{
 "cells": [
  {
   "cell_type": "code",
   "execution_count": 1,
   "metadata": {},
   "outputs": [
    {
     "name": "stdout",
     "output_type": "stream",
     "text": [
      "[1 2 3 4 5]\n",
      "[array([[ True,  True,  True,  True,  True, False],\n",
      "       [False, False, False, False, False, False]])]\n"
     ]
    }
   ],
   "source": [
    "#indexing and slicing\n",
    "import numpy as np\n",
    "a=np.array([[1,2,3,4,5,6],[7,8,9,10,11,12]])\n",
    "print(a[a<6]) # you can always print less then and greater then values  \n",
    "c=[(a<5)|(a==5)] # they show the output in a boolean form\n",
    "print(c)"
   ]
  }
 ],
 "metadata": {
  "kernelspec": {
   "display_name": "Python 3",
   "language": "python",
   "name": "python3"
  },
  "language_info": {
   "codemirror_mode": {
    "name": "ipython",
    "version": 3
   },
   "file_extension": ".py",
   "mimetype": "text/x-python",
   "name": "python",
   "nbconvert_exporter": "python",
   "pygments_lexer": "ipython3",
   "version": "3.11.4"
  }
 },
 "nbformat": 4,
 "nbformat_minor": 2
}
