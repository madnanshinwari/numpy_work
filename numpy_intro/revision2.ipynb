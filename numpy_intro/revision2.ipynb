{
 "cells": [
  {
   "cell_type": "markdown",
   "metadata": {},
   "source": [
    "Here try some methods of numpy"
   ]
  },
  {
   "cell_type": "code",
   "execution_count": 11,
   "metadata": {},
   "outputs": [
    {
     "name": "stdout",
     "output_type": "stream",
     "text": [
      "10\n",
      "int32\n",
      "int32\n"
     ]
    }
   ],
   "source": [
    "import numpy as np\n",
    "arr=np.array([1,2,3,4])\n",
    "z=sum(arr)\n",
    "print(z)\n",
    "print(arr.dtype) # show the data type of the array\n",
    "newarr=arr.astype('i') \n",
    "print(newarr.dtype)"
   ]
  },
  {
   "cell_type": "code",
   "execution_count": 6,
   "metadata": {},
   "outputs": [
    {
     "name": "stdout",
     "output_type": "stream",
     "text": [
      "[100  23  24  25   7]\n",
      "(array([2], dtype=int64),)\n",
      "[  7  23  24  25 100]\n"
     ]
    }
   ],
   "source": [
    "import numpy as np\n",
    "arr2=np.array([11,23,24,25,7])\n",
    "x=arr2.copy()\n",
    "arr2[0]=100 # replace the first of the array by 100\n",
    "print(arr2)\n",
    "y=np.where(arr2==24) # search element in array\n",
    "print(y)\n",
    "z=np.sort(arr2) # putting elements in sequances \n",
    "print(z)"
   ]
  },
  {
   "cell_type": "code",
   "execution_count": 16,
   "metadata": {},
   "outputs": [
    {
     "name": "stdout",
     "output_type": "stream",
     "text": [
      "1\n",
      "2\n",
      "3\n",
      "4\n",
      "5\n",
      "6\n",
      "7\n",
      "8\n"
     ]
    }
   ],
   "source": [
    "# iterating method\n",
    "import numpy as np\n",
    "#for x in arr2: # here arr2 is use the above code\n",
    "    #print(x)\n",
    "\n",
    "# for 2-D is :\n",
    "two_D=np.array([[1,2,3,4],[5,6,7,8]])\n",
    "for x in two_D:\n",
    "    for y in x:\n",
    "        print(y)"
   ]
  }
 ],
 "metadata": {
  "kernelspec": {
   "display_name": "Python 3",
   "language": "python",
   "name": "python3"
  },
  "language_info": {
   "codemirror_mode": {
    "name": "ipython",
    "version": 3
   },
   "file_extension": ".py",
   "mimetype": "text/x-python",
   "name": "python",
   "nbconvert_exporter": "python",
   "pygments_lexer": "ipython3",
   "version": "3.11.4"
  }
 },
 "nbformat": 4,
 "nbformat_minor": 2
}
