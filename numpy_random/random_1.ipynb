{
 "cells": [
  {
   "cell_type": "code",
   "execution_count": 15,
   "metadata": {},
   "outputs": [
    {
     "name": "stdout",
     "output_type": "stream",
     "text": [
      "[49 20 71 29 59]\n"
     ]
    }
   ],
   "source": [
    "# generate integer number \n",
    "from numpy import random\n",
    "x=random.randint(100 ,size=5) # generate a random numbers with in range of 100\n",
    "print(x)   # randint take size parameter which make a array"
   ]
  },
  {
   "cell_type": "code",
   "execution_count": 21,
   "metadata": {},
   "outputs": [
    {
     "name": "stdout",
     "output_type": "stream",
     "text": [
      "random retrun value from the array: 28\n",
      "[0.80130111 0.34329632 0.19355762 0.11142455 0.45548911]\n"
     ]
    }
   ],
   "source": [
    "from numpy import random\n",
    "x=random.rand(5) # rand() generate a float values \n",
    "z=random.randint(50, size=5) # generate the Array\n",
    "y=random.choice(z)\n",
    "print(\"random retrun value from the array:\",y)\n",
    "print(x)"
   ]
  },
  {
   "cell_type": "markdown",
   "metadata": {},
   "source": [
    "Data Distribution : A list of all possible values and how often each value occurs.\n",
    "=> the sum of all probability number should be 1.\n"
   ]
  },
  {
   "cell_type": "code",
   "execution_count": 9,
   "metadata": {},
   "outputs": [
    {
     "name": "stdout",
     "output_type": "stream",
     "text": [
      "[6 4 6 4 6 5 6 4 6 6]\n",
      "[[6 6 5]\n",
      " [6 4 4]]\n"
     ]
    }
   ],
   "source": [
    "from numpy import random\n",
    "data_dis=random.choice([5,6,7,4], p=[0.1,0.5,0.0,0.4],size=(10)) # check probabilty of number that how many chances of number they print \n",
    "print(data_dis)\n",
    "\n",
    "\n",
    "# generate 2_D array from array and select the probability\n",
    "two_D=random.choice([5,6,7,4], p=[0.1,0.5,0.0,0.4],size=(2,3)) \n",
    "print(two_D)"
   ]
  }
 ],
 "metadata": {
  "kernelspec": {
   "display_name": "Python 3",
   "language": "python",
   "name": "python3"
  },
  "language_info": {
   "codemirror_mode": {
    "name": "ipython",
    "version": 3
   },
   "file_extension": ".py",
   "mimetype": "text/x-python",
   "name": "python",
   "nbconvert_exporter": "python",
   "pygments_lexer": "ipython3",
   "version": "3.11.4"
  }
 },
 "nbformat": 4,
 "nbformat_minor": 2
}
